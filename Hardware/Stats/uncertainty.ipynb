{
 "cells": [
  {
   "cell_type": "code",
   "execution_count": 2,
   "metadata": {},
   "outputs": [],
   "source": [
    "import pandas as pd\n",
    "import numpy as np\n",
    "import matplotlib.pyplot as plt\n",
    "import scipy \n",
    "import seaborn as sns\n",
    "import statsmodels.api as sm\n",
    "from statsmodels.formula.api import ols\n",
    "from statsmodels.stats.multicomp import pairwise_tukeyhsd\n",
    "from bioinfokit.analys import stat"
   ]
  },
  {
   "cell_type": "code",
   "execution_count": 3,
   "metadata": {},
   "outputs": [
    {
     "data": {
      "text/html": [
       "<div>\n",
       "<style scoped>\n",
       "    .dataframe tbody tr th:only-of-type {\n",
       "        vertical-align: middle;\n",
       "    }\n",
       "\n",
       "    .dataframe tbody tr th {\n",
       "        vertical-align: top;\n",
       "    }\n",
       "\n",
       "    .dataframe thead th {\n",
       "        text-align: right;\n",
       "    }\n",
       "</style>\n",
       "<table border=\"1\" class=\"dataframe\">\n",
       "  <thead>\n",
       "    <tr style=\"text-align: right;\">\n",
       "      <th></th>\n",
       "      <th>Unnamed: 0</th>\n",
       "      <th>index</th>\n",
       "      <th>pH</th>\n",
       "      <th>value</th>\n",
       "    </tr>\n",
       "  </thead>\n",
       "  <tbody>\n",
       "    <tr>\n",
       "      <th>0</th>\n",
       "      <td>0</td>\n",
       "      <td>11</td>\n",
       "      <td>pH 2.17</td>\n",
       "      <td>-0.414747</td>\n",
       "    </tr>\n",
       "    <tr>\n",
       "      <th>1</th>\n",
       "      <td>1</td>\n",
       "      <td>12</td>\n",
       "      <td>pH 2.17</td>\n",
       "      <td>-0.414747</td>\n",
       "    </tr>\n",
       "    <tr>\n",
       "      <th>2</th>\n",
       "      <td>2</td>\n",
       "      <td>13</td>\n",
       "      <td>pH 2.17</td>\n",
       "      <td>-0.414747</td>\n",
       "    </tr>\n",
       "    <tr>\n",
       "      <th>3</th>\n",
       "      <td>3</td>\n",
       "      <td>14</td>\n",
       "      <td>pH 2.17</td>\n",
       "      <td>-0.368664</td>\n",
       "    </tr>\n",
       "    <tr>\n",
       "      <th>4</th>\n",
       "      <td>4</td>\n",
       "      <td>15</td>\n",
       "      <td>pH 2.17</td>\n",
       "      <td>-0.368664</td>\n",
       "    </tr>\n",
       "    <tr>\n",
       "      <th>...</th>\n",
       "      <td>...</td>\n",
       "      <td>...</td>\n",
       "      <td>...</td>\n",
       "      <td>...</td>\n",
       "    </tr>\n",
       "    <tr>\n",
       "      <th>4746</th>\n",
       "      <td>4746</td>\n",
       "      <td>4995</td>\n",
       "      <td>pH 13.15</td>\n",
       "      <td>0.320152</td>\n",
       "    </tr>\n",
       "    <tr>\n",
       "      <th>4747</th>\n",
       "      <td>4747</td>\n",
       "      <td>4996</td>\n",
       "      <td>pH 13.15</td>\n",
       "      <td>0.329278</td>\n",
       "    </tr>\n",
       "    <tr>\n",
       "      <th>4748</th>\n",
       "      <td>4748</td>\n",
       "      <td>4997</td>\n",
       "      <td>pH 13.15</td>\n",
       "      <td>0.333840</td>\n",
       "    </tr>\n",
       "    <tr>\n",
       "      <th>4749</th>\n",
       "      <td>4749</td>\n",
       "      <td>4998</td>\n",
       "      <td>pH 13.15</td>\n",
       "      <td>0.362738</td>\n",
       "    </tr>\n",
       "    <tr>\n",
       "      <th>4750</th>\n",
       "      <td>4750</td>\n",
       "      <td>4999</td>\n",
       "      <td>pH 13.15</td>\n",
       "      <td>0.381749</td>\n",
       "    </tr>\n",
       "  </tbody>\n",
       "</table>\n",
       "<p>4751 rows × 4 columns</p>\n",
       "</div>"
      ],
      "text/plain": [
       "      Unnamed: 0  index        pH     value\n",
       "0              0     11   pH 2.17 -0.414747\n",
       "1              1     12   pH 2.17 -0.414747\n",
       "2              2     13   pH 2.17 -0.414747\n",
       "3              3     14   pH 2.17 -0.368664\n",
       "4              4     15   pH 2.17 -0.368664\n",
       "...          ...    ...       ...       ...\n",
       "4746        4746   4995  pH 13.15  0.320152\n",
       "4747        4747   4996  pH 13.15  0.329278\n",
       "4748        4748   4997  pH 13.15  0.333840\n",
       "4749        4749   4998  pH 13.15  0.362738\n",
       "4750        4750   4999  pH 13.15  0.381749\n",
       "\n",
       "[4751 rows x 4 columns]"
      ]
     },
     "execution_count": 3,
     "metadata": {},
     "output_type": "execute_result"
    }
   ],
   "source": [
    "df_all = pd.read_csv('../Reading/Remove Outlier Chauvenet.csv')\n",
    "df_all"
   ]
  },
  {
   "cell_type": "code",
   "execution_count": 6,
   "metadata": {},
   "outputs": [],
   "source": [
    "df_u = df_all.pivot(columns='pH', values='value')\n",
    "df_2_17 = df_u['pH 2.17'].dropna().reset_index(drop=True)\n",
    "df_5_75 = df_u['pH 5.75'].dropna().reset_index(drop=True)\n",
    "df_7_73 = df_u['pH 7.73'].dropna().reset_index(drop=True)\n",
    "df_10_36 = df_u['pH 10.36'].dropna().reset_index(drop=True)\n",
    "df_13_15 = df_u['pH 13.15'].dropna().reset_index(drop=True)\n",
    "\n",
    "\n",
    "\n",
    "val = {\n",
    "    \"pH 2.17\" : df_2_17,\n",
    "    \"pH 5.75\" : df_5_75,\n",
    "    \"pH 7.73\" : df_7_73,\n",
    "    \"pH 10.36\" : df_10_36,\n",
    "    \"pH 13.15\" : df_13_15\n",
    "}\n",
    "\n",
    "df = {}"
   ]
  },
  {
   "attachments": {},
   "cell_type": "markdown",
   "metadata": {},
   "source": [
    "# Uncertainy Range (Vmax - Vmin / n)"
   ]
  },
  {
   "cell_type": "code",
   "execution_count": 7,
   "metadata": {},
   "outputs": [
    {
     "name": "stdout",
     "output_type": "stream",
     "text": [
      "0.0013218055864310527\n",
      "0.0\n",
      "0.0010216731876730926\n",
      "0.0\n",
      "0.0008386044062485751\n",
      "0.0\n",
      "0.0005125482625482682\n",
      "0.0\n",
      "0.0007087452471482987\n",
      "0.0\n"
     ]
    }
   ],
   "source": [
    "for i in val.keys():\n",
    "    print((val[i].max() - val[i].min()) / len(val[i]))\n",
    "    print(float(\"{:.2f}\".format((val[i].max() - val[i].min()) / len(val[i]))))"
   ]
  },
  {
   "attachments": {},
   "cell_type": "markdown",
   "metadata": {},
   "source": [
    "# Mean Deviation"
   ]
  },
  {
   "cell_type": "code",
   "execution_count": 8,
   "metadata": {},
   "outputs": [
    {
     "name": "stdout",
     "output_type": "stream",
     "text": [
      "Mean of pH 2.17 is 0.2\n",
      "Mean of pH 5.75 is 0.16\n",
      "Mean of pH 7.73 is 0.11\n",
      "Mean of pH 10.36 is 0.07\n",
      "Mean of pH 13.15 is 0.09\n"
     ]
    }
   ],
   "source": [
    "for i in val.keys():\n",
    "    temp = []\n",
    "    for j in val[i]:\n",
    "        temp.append(abs(j - val[i].mean()))\n",
    "    \n",
    "    print(f\"Mean of {i} is {round(sum(temp) / len(temp), 2)}\")\n",
    "    temp = []"
   ]
  },
  {
   "cell_type": "code",
   "execution_count": 9,
   "metadata": {},
   "outputs": [
    {
     "data": {
      "text/plain": [
       "246"
      ]
     },
     "execution_count": 9,
     "metadata": {},
     "output_type": "execute_result"
    }
   ],
   "source": [
    "110 + 61+37+38"
   ]
  },
  {
   "cell_type": "code",
   "execution_count": null,
   "metadata": {},
   "outputs": [],
   "source": []
  }
 ],
 "metadata": {
  "kernelspec": {
   "display_name": "Yolo2TFLite",
   "language": "python",
   "name": "python3"
  },
  "language_info": {
   "codemirror_mode": {
    "name": "ipython",
    "version": 3
   },
   "file_extension": ".py",
   "mimetype": "text/x-python",
   "name": "python",
   "nbconvert_exporter": "python",
   "pygments_lexer": "ipython3",
   "version": "3.7.3"
  },
  "orig_nbformat": 4,
  "vscode": {
   "interpreter": {
    "hash": "d6462f88199808a8302aa5aff60b48faf49ed9099ed9d7a9038245edaa5fe56e"
   }
  }
 },
 "nbformat": 4,
 "nbformat_minor": 2
}
