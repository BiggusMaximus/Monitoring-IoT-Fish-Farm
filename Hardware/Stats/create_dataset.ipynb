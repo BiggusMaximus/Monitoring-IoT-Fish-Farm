{
 "cells": [
  {
   "cell_type": "code",
   "execution_count": 1,
   "metadata": {},
   "outputs": [],
   "source": [
    "import pandas as pd\n",
    "import numpy as np\n",
    "import seaborn as sns\n",
    "import matplotlib.pyplot as plt\n",
    "import scipy.stats as stats\n",
    "import math\n",
    "from sklearn.linear_model import LinearRegression"
   ]
  },
  {
   "attachments": {},
   "cell_type": "markdown",
   "metadata": {},
   "source": [
    "# Creating Pandas Dataframe from Reading Data"
   ]
  },
  {
   "cell_type": "code",
   "execution_count": 2,
   "metadata": {},
   "outputs": [],
   "source": [
    "df_2_17 = pd.read_csv('../Reading/2.17.csv')\n",
    "df_5_75 = pd.read_csv('../Reading/5.75.csv')\n",
    "df_7_73 = pd.read_csv('../Reading/7.73.csv')\n",
    "df_10_36 = pd.read_csv('../Reading/10.36.csv')\n",
    "df_13_15 = pd.read_csv('../Reading/13.15.csv')\n",
    "\n",
    "df = pd.concat([df_2_17['pH 2.17'], df_5_75['pH 5.75'], df_7_73['pH 7.73'], df_10_36['pH 10.36'], df_13_15['pH 13.15']], axis=1)\n",
    "df.to_csv('../Reading/pH_all.csv', index=False)\n",
    "df.describe().to_excel('../Reading/pH_all_summary.xlsx')"
   ]
  },
  {
   "attachments": {},
   "cell_type": "markdown",
   "metadata": {},
   "source": [
    "# Creating Pandas Dataframe from Relative error Reading Data"
   ]
  },
  {
   "cell_type": "code",
   "execution_count": 3,
   "metadata": {},
   "outputs": [],
   "source": [
    "df['pH 2.17'] = ((df['pH 2.17'] - 2.17) / 2.17) * 100\n",
    "df['pH 5.75'] = ((df['pH 5.75'] - 5.75) / 5.75) * 100\n",
    "df['pH 7.73'] = ((df['pH 7.73'] - 7.73) / 7.73) * 100\n",
    "df['pH 10.36'] = ((df['pH 10.36'] - 10.36) / 10.36) * 100\n",
    "df['pH 13.15'] = ((df['pH 13.15'] - 13.15) / 13.15) * 100\n",
    "df.to_csv('../Reading/relative_error.csv', index=False)\n",
    "df.to_excel('../Reading/relative_error.xlsx', index=False)"
   ]
  },
  {
   "attachments": {},
   "cell_type": "markdown",
   "metadata": {},
   "source": [
    "# Generated Z Score from each relative error"
   ]
  },
  {
   "cell_type": "code",
   "execution_count": 28,
   "metadata": {},
   "outputs": [
    {
     "data": {
      "text/html": [
       "<div>\n",
       "<style scoped>\n",
       "    .dataframe tbody tr th:only-of-type {\n",
       "        vertical-align: middle;\n",
       "    }\n",
       "\n",
       "    .dataframe tbody tr th {\n",
       "        vertical-align: top;\n",
       "    }\n",
       "\n",
       "    .dataframe thead th {\n",
       "        text-align: right;\n",
       "    }\n",
       "</style>\n",
       "<table border=\"1\" class=\"dataframe\">\n",
       "  <thead>\n",
       "    <tr style=\"text-align: right;\">\n",
       "      <th></th>\n",
       "      <th>pH 2.17</th>\n",
       "      <th>pH 5.75</th>\n",
       "      <th>pH 7.73</th>\n",
       "      <th>pH 10.36</th>\n",
       "      <th>pH 13.15</th>\n",
       "    </tr>\n",
       "  </thead>\n",
       "  <tbody>\n",
       "    <tr>\n",
       "      <th>0</th>\n",
       "      <td>-1.252186</td>\n",
       "      <td>-1.105886</td>\n",
       "      <td>-0.890908</td>\n",
       "      <td>-0.121167</td>\n",
       "      <td>0.970658</td>\n",
       "    </tr>\n",
       "    <tr>\n",
       "      <th>1</th>\n",
       "      <td>-0.224330</td>\n",
       "      <td>-1.507528</td>\n",
       "      <td>-1.189502</td>\n",
       "      <td>0.340529</td>\n",
       "      <td>-0.942062</td>\n",
       "    </tr>\n",
       "    <tr>\n",
       "      <th>2</th>\n",
       "      <td>0.932008</td>\n",
       "      <td>-2.519999</td>\n",
       "      <td>-1.786692</td>\n",
       "      <td>-1.416169</td>\n",
       "      <td>-0.141704</td>\n",
       "    </tr>\n",
       "    <tr>\n",
       "      <th>3</th>\n",
       "      <td>2.088347</td>\n",
       "      <td>-2.235503</td>\n",
       "      <td>-0.827569</td>\n",
       "      <td>-0.898169</td>\n",
       "      <td>-0.413012</td>\n",
       "    </tr>\n",
       "    <tr>\n",
       "      <th>4</th>\n",
       "      <td>0.418080</td>\n",
       "      <td>-1.365280</td>\n",
       "      <td>-3.397295</td>\n",
       "      <td>-3.082781</td>\n",
       "      <td>-1.030237</td>\n",
       "    </tr>\n",
       "    <tr>\n",
       "      <th>...</th>\n",
       "      <td>...</td>\n",
       "      <td>...</td>\n",
       "      <td>...</td>\n",
       "      <td>...</td>\n",
       "      <td>...</td>\n",
       "    </tr>\n",
       "    <tr>\n",
       "      <th>995</th>\n",
       "      <td>0.032634</td>\n",
       "      <td>-0.085048</td>\n",
       "      <td>1.009242</td>\n",
       "      <td>0.892313</td>\n",
       "      <td>-1.715289</td>\n",
       "    </tr>\n",
       "    <tr>\n",
       "      <th>996</th>\n",
       "      <td>0.418080</td>\n",
       "      <td>-0.009740</td>\n",
       "      <td>0.366810</td>\n",
       "      <td>0.486921</td>\n",
       "      <td>1.255531</td>\n",
       "    </tr>\n",
       "    <tr>\n",
       "      <th>997</th>\n",
       "      <td>-0.352812</td>\n",
       "      <td>1.638664</td>\n",
       "      <td>0.873517</td>\n",
       "      <td>-0.999517</td>\n",
       "      <td>0.760394</td>\n",
       "    </tr>\n",
       "    <tr>\n",
       "      <th>998</th>\n",
       "      <td>0.932008</td>\n",
       "      <td>1.086407</td>\n",
       "      <td>0.538728</td>\n",
       "      <td>0.802226</td>\n",
       "      <td>-0.711450</td>\n",
       "    </tr>\n",
       "    <tr>\n",
       "      <th>999</th>\n",
       "      <td>-0.866740</td>\n",
       "      <td>0.492312</td>\n",
       "      <td>1.479755</td>\n",
       "      <td>0.137833</td>\n",
       "      <td>0.095690</td>\n",
       "    </tr>\n",
       "  </tbody>\n",
       "</table>\n",
       "<p>1000 rows × 5 columns</p>\n",
       "</div>"
      ],
      "text/plain": [
       "      pH 2.17   pH 5.75   pH 7.73  pH 10.36  pH 13.15\n",
       "0   -1.252186 -1.105886 -0.890908 -0.121167  0.970658\n",
       "1   -0.224330 -1.507528 -1.189502  0.340529 -0.942062\n",
       "2    0.932008 -2.519999 -1.786692 -1.416169 -0.141704\n",
       "3    2.088347 -2.235503 -0.827569 -0.898169 -0.413012\n",
       "4    0.418080 -1.365280 -3.397295 -3.082781 -1.030237\n",
       "..        ...       ...       ...       ...       ...\n",
       "995  0.032634 -0.085048  1.009242  0.892313 -1.715289\n",
       "996  0.418080 -0.009740  0.366810  0.486921  1.255531\n",
       "997 -0.352812  1.638664  0.873517 -0.999517  0.760394\n",
       "998  0.932008  1.086407  0.538728  0.802226 -0.711450\n",
       "999 -0.866740  0.492312  1.479755  0.137833  0.095690\n",
       "\n",
       "[1000 rows x 5 columns]"
      ]
     },
     "execution_count": 28,
     "metadata": {},
     "output_type": "execute_result"
    }
   ],
   "source": [
    "for i in df.columns:\n",
    "    df[i] = (df[i] - df[i].mean()) / df[i].std()\n",
    "\n",
    "df.to_csv('../Reading/z-score_pH.csv', index=False)\n",
    "df"
   ]
  }
 ],
 "metadata": {
  "kernelspec": {
   "display_name": "env",
   "language": "python",
   "name": "python3"
  },
  "language_info": {
   "codemirror_mode": {
    "name": "ipython",
    "version": 3
   },
   "file_extension": ".py",
   "mimetype": "text/x-python",
   "name": "python",
   "nbconvert_exporter": "python",
   "pygments_lexer": "ipython3",
   "version": "3.7.3"
  },
  "orig_nbformat": 4,
  "vscode": {
   "interpreter": {
    "hash": "9815267a4b24ca8565ce40d21702d94693c86a59a32eb5a72af4482704603abb"
   }
  }
 },
 "nbformat": 4,
 "nbformat_minor": 2
}
