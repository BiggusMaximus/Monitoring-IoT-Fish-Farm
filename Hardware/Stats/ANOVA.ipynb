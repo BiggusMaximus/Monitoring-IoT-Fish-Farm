{
 "cells": [
  {
   "cell_type": "code",
   "execution_count": 1,
   "metadata": {},
   "outputs": [],
   "source": [
    "import pandas as pd\n",
    "import numpy as np\n",
    "import matplotlib.pyplot as plt\n",
    "import scipy \n",
    "import seaborn as sns\n",
    "import statsmodels.api as sm\n",
    "from statsmodels.formula.api import ols\n",
    "from statsmodels.stats.multicomp import pairwise_tukeyhsd\n",
    "from bioinfokit.analys import stat"
   ]
  },
  {
   "cell_type": "code",
   "execution_count": 7,
   "metadata": {},
   "outputs": [
    {
     "data": {
      "text/html": [
       "<div>\n",
       "<style scoped>\n",
       "    .dataframe tbody tr th:only-of-type {\n",
       "        vertical-align: middle;\n",
       "    }\n",
       "\n",
       "    .dataframe tbody tr th {\n",
       "        vertical-align: top;\n",
       "    }\n",
       "\n",
       "    .dataframe thead th {\n",
       "        text-align: right;\n",
       "    }\n",
       "</style>\n",
       "<table border=\"1\" class=\"dataframe\">\n",
       "  <thead>\n",
       "    <tr style=\"text-align: right;\">\n",
       "      <th></th>\n",
       "      <th>Unnamed: 0</th>\n",
       "      <th>index</th>\n",
       "      <th>pH</th>\n",
       "      <th>value</th>\n",
       "    </tr>\n",
       "  </thead>\n",
       "  <tbody>\n",
       "    <tr>\n",
       "      <th>0</th>\n",
       "      <td>0</td>\n",
       "      <td>11</td>\n",
       "      <td>pH 2.17</td>\n",
       "      <td>-0.414747</td>\n",
       "    </tr>\n",
       "    <tr>\n",
       "      <th>1</th>\n",
       "      <td>1</td>\n",
       "      <td>12</td>\n",
       "      <td>pH 2.17</td>\n",
       "      <td>-0.414747</td>\n",
       "    </tr>\n",
       "    <tr>\n",
       "      <th>2</th>\n",
       "      <td>2</td>\n",
       "      <td>13</td>\n",
       "      <td>pH 2.17</td>\n",
       "      <td>-0.414747</td>\n",
       "    </tr>\n",
       "    <tr>\n",
       "      <th>3</th>\n",
       "      <td>3</td>\n",
       "      <td>14</td>\n",
       "      <td>pH 2.17</td>\n",
       "      <td>-0.368664</td>\n",
       "    </tr>\n",
       "    <tr>\n",
       "      <th>4</th>\n",
       "      <td>4</td>\n",
       "      <td>15</td>\n",
       "      <td>pH 2.17</td>\n",
       "      <td>-0.368664</td>\n",
       "    </tr>\n",
       "    <tr>\n",
       "      <th>...</th>\n",
       "      <td>...</td>\n",
       "      <td>...</td>\n",
       "      <td>...</td>\n",
       "      <td>...</td>\n",
       "    </tr>\n",
       "    <tr>\n",
       "      <th>4746</th>\n",
       "      <td>4746</td>\n",
       "      <td>4995</td>\n",
       "      <td>pH 13.15</td>\n",
       "      <td>0.320152</td>\n",
       "    </tr>\n",
       "    <tr>\n",
       "      <th>4747</th>\n",
       "      <td>4747</td>\n",
       "      <td>4996</td>\n",
       "      <td>pH 13.15</td>\n",
       "      <td>0.329278</td>\n",
       "    </tr>\n",
       "    <tr>\n",
       "      <th>4748</th>\n",
       "      <td>4748</td>\n",
       "      <td>4997</td>\n",
       "      <td>pH 13.15</td>\n",
       "      <td>0.333840</td>\n",
       "    </tr>\n",
       "    <tr>\n",
       "      <th>4749</th>\n",
       "      <td>4749</td>\n",
       "      <td>4998</td>\n",
       "      <td>pH 13.15</td>\n",
       "      <td>0.362738</td>\n",
       "    </tr>\n",
       "    <tr>\n",
       "      <th>4750</th>\n",
       "      <td>4750</td>\n",
       "      <td>4999</td>\n",
       "      <td>pH 13.15</td>\n",
       "      <td>0.381749</td>\n",
       "    </tr>\n",
       "  </tbody>\n",
       "</table>\n",
       "<p>4751 rows × 4 columns</p>\n",
       "</div>"
      ],
      "text/plain": [
       "      Unnamed: 0  index        pH     value\n",
       "0              0     11   pH 2.17 -0.414747\n",
       "1              1     12   pH 2.17 -0.414747\n",
       "2              2     13   pH 2.17 -0.414747\n",
       "3              3     14   pH 2.17 -0.368664\n",
       "4              4     15   pH 2.17 -0.368664\n",
       "...          ...    ...       ...       ...\n",
       "4746        4746   4995  pH 13.15  0.320152\n",
       "4747        4747   4996  pH 13.15  0.329278\n",
       "4748        4748   4997  pH 13.15  0.333840\n",
       "4749        4749   4998  pH 13.15  0.362738\n",
       "4750        4750   4999  pH 13.15  0.381749\n",
       "\n",
       "[4751 rows x 4 columns]"
      ]
     },
     "execution_count": 7,
     "metadata": {},
     "output_type": "execute_result"
    }
   ],
   "source": [
    "df_melt = pd.read_csv('../Reading/Remove Outlier Chauvenet.csv')\n",
    "df_melt"
   ]
  },
  {
   "cell_type": "code",
   "execution_count": 8,
   "metadata": {},
   "outputs": [
    {
     "data": {
      "text/html": [
       "<div>\n",
       "<style scoped>\n",
       "    .dataframe tbody tr th:only-of-type {\n",
       "        vertical-align: middle;\n",
       "    }\n",
       "\n",
       "    .dataframe tbody tr th {\n",
       "        vertical-align: top;\n",
       "    }\n",
       "\n",
       "    .dataframe thead th {\n",
       "        text-align: right;\n",
       "    }\n",
       "</style>\n",
       "<table border=\"1\" class=\"dataframe\">\n",
       "  <thead>\n",
       "    <tr style=\"text-align: right;\">\n",
       "      <th></th>\n",
       "      <th>sum_sq</th>\n",
       "      <th>df</th>\n",
       "      <th>F</th>\n",
       "      <th>PR(&gt;F)</th>\n",
       "    </tr>\n",
       "  </thead>\n",
       "  <tbody>\n",
       "    <tr>\n",
       "      <th>pH</th>\n",
       "      <td>48.263651</td>\n",
       "      <td>4.0</td>\n",
       "      <td>461.462077</td>\n",
       "      <td>0.0</td>\n",
       "    </tr>\n",
       "    <tr>\n",
       "      <th>Residual</th>\n",
       "      <td>124.094318</td>\n",
       "      <td>4746.0</td>\n",
       "      <td>NaN</td>\n",
       "      <td>NaN</td>\n",
       "    </tr>\n",
       "  </tbody>\n",
       "</table>\n",
       "</div>"
      ],
      "text/plain": [
       "              sum_sq      df           F  PR(>F)\n",
       "pH         48.263651     4.0  461.462077     0.0\n",
       "Residual  124.094318  4746.0         NaN     NaN"
      ]
     },
     "execution_count": 8,
     "metadata": {},
     "output_type": "execute_result"
    }
   ],
   "source": [
    "new = ols('value ~ pH', data = df_melt).fit()\n",
    "an = sm.stats.anova_lm(new, typ=2)\n",
    "an"
   ]
  },
  {
   "cell_type": "code",
   "execution_count": 9,
   "metadata": {},
   "outputs": [
    {
     "name": "stderr",
     "output_type": "stream",
     "text": [
      "g:\\Program\\Python\\__env\\Yolo2TFLite\\lib\\site-packages\\bioinfokit\\analys.py:402: FutureWarning: Dropping of nuisance columns in DataFrame reductions (with 'numeric_only=None') is deprecated; in a future version this will raise TypeError.  Select only valid columns before calling the reduction.\n",
      "  mult_group[ele] = df[df[xfac_var] == ele].mean().loc[res_var]\n"
     ]
    },
    {
     "data": {
      "text/html": [
       "<div>\n",
       "<style scoped>\n",
       "    .dataframe tbody tr th:only-of-type {\n",
       "        vertical-align: middle;\n",
       "    }\n",
       "\n",
       "    .dataframe tbody tr th {\n",
       "        vertical-align: top;\n",
       "    }\n",
       "\n",
       "    .dataframe thead th {\n",
       "        text-align: right;\n",
       "    }\n",
       "</style>\n",
       "<table border=\"1\" class=\"dataframe\">\n",
       "  <thead>\n",
       "    <tr style=\"text-align: right;\">\n",
       "      <th></th>\n",
       "      <th>group1</th>\n",
       "      <th>group2</th>\n",
       "      <th>Diff</th>\n",
       "      <th>Lower</th>\n",
       "      <th>Upper</th>\n",
       "      <th>q-value</th>\n",
       "      <th>p-value</th>\n",
       "    </tr>\n",
       "  </thead>\n",
       "  <tbody>\n",
       "    <tr>\n",
       "      <th>0</th>\n",
       "      <td>pH 2.17</td>\n",
       "      <td>pH 5.75</td>\n",
       "      <td>0.035670</td>\n",
       "      <td>0.010334</td>\n",
       "      <td>0.061006</td>\n",
       "      <td>6.483983</td>\n",
       "      <td>0.001</td>\n",
       "    </tr>\n",
       "    <tr>\n",
       "      <th>1</th>\n",
       "      <td>pH 2.17</td>\n",
       "      <td>pH 7.73</td>\n",
       "      <td>0.269441</td>\n",
       "      <td>0.244138</td>\n",
       "      <td>0.294743</td>\n",
       "      <td>49.042463</td>\n",
       "      <td>0.001</td>\n",
       "    </tr>\n",
       "    <tr>\n",
       "      <th>2</th>\n",
       "      <td>pH 2.17</td>\n",
       "      <td>pH 10.36</td>\n",
       "      <td>0.103730</td>\n",
       "      <td>0.078455</td>\n",
       "      <td>0.129005</td>\n",
       "      <td>18.901027</td>\n",
       "      <td>0.001</td>\n",
       "    </tr>\n",
       "    <tr>\n",
       "      <th>3</th>\n",
       "      <td>pH 2.17</td>\n",
       "      <td>pH 13.15</td>\n",
       "      <td>0.210402</td>\n",
       "      <td>0.185127</td>\n",
       "      <td>0.235677</td>\n",
       "      <td>38.338285</td>\n",
       "      <td>0.001</td>\n",
       "    </tr>\n",
       "    <tr>\n",
       "      <th>4</th>\n",
       "      <td>pH 5.75</td>\n",
       "      <td>pH 7.73</td>\n",
       "      <td>0.233770</td>\n",
       "      <td>0.210126</td>\n",
       "      <td>0.257415</td>\n",
       "      <td>45.533534</td>\n",
       "      <td>0.001</td>\n",
       "    </tr>\n",
       "    <tr>\n",
       "      <th>5</th>\n",
       "      <td>pH 5.75</td>\n",
       "      <td>pH 10.36</td>\n",
       "      <td>0.068059</td>\n",
       "      <td>0.044444</td>\n",
       "      <td>0.091675</td>\n",
       "      <td>13.273102</td>\n",
       "      <td>0.001</td>\n",
       "    </tr>\n",
       "    <tr>\n",
       "      <th>6</th>\n",
       "      <td>pH 5.75</td>\n",
       "      <td>pH 13.15</td>\n",
       "      <td>0.174732</td>\n",
       "      <td>0.151117</td>\n",
       "      <td>0.198347</td>\n",
       "      <td>34.076600</td>\n",
       "      <td>0.001</td>\n",
       "    </tr>\n",
       "    <tr>\n",
       "      <th>7</th>\n",
       "      <td>pH 7.73</td>\n",
       "      <td>pH 10.36</td>\n",
       "      <td>0.165711</td>\n",
       "      <td>0.142132</td>\n",
       "      <td>0.189290</td>\n",
       "      <td>32.366385</td>\n",
       "      <td>0.001</td>\n",
       "    </tr>\n",
       "    <tr>\n",
       "      <th>8</th>\n",
       "      <td>pH 7.73</td>\n",
       "      <td>pH 13.15</td>\n",
       "      <td>0.059038</td>\n",
       "      <td>0.035459</td>\n",
       "      <td>0.082618</td>\n",
       "      <td>11.531279</td>\n",
       "      <td>0.001</td>\n",
       "    </tr>\n",
       "    <tr>\n",
       "      <th>9</th>\n",
       "      <td>pH 10.36</td>\n",
       "      <td>pH 13.15</td>\n",
       "      <td>0.106673</td>\n",
       "      <td>0.083123</td>\n",
       "      <td>0.130222</td>\n",
       "      <td>20.861264</td>\n",
       "      <td>0.001</td>\n",
       "    </tr>\n",
       "  </tbody>\n",
       "</table>\n",
       "</div>"
      ],
      "text/plain": [
       "     group1    group2      Diff     Lower     Upper    q-value  p-value\n",
       "0   pH 2.17   pH 5.75  0.035670  0.010334  0.061006   6.483983    0.001\n",
       "1   pH 2.17   pH 7.73  0.269441  0.244138  0.294743  49.042463    0.001\n",
       "2   pH 2.17  pH 10.36  0.103730  0.078455  0.129005  18.901027    0.001\n",
       "3   pH 2.17  pH 13.15  0.210402  0.185127  0.235677  38.338285    0.001\n",
       "4   pH 5.75   pH 7.73  0.233770  0.210126  0.257415  45.533534    0.001\n",
       "5   pH 5.75  pH 10.36  0.068059  0.044444  0.091675  13.273102    0.001\n",
       "6   pH 5.75  pH 13.15  0.174732  0.151117  0.198347  34.076600    0.001\n",
       "7   pH 7.73  pH 10.36  0.165711  0.142132  0.189290  32.366385    0.001\n",
       "8   pH 7.73  pH 13.15  0.059038  0.035459  0.082618  11.531279    0.001\n",
       "9  pH 10.36  pH 13.15  0.106673  0.083123  0.130222  20.861264    0.001"
      ]
     },
     "execution_count": 9,
     "metadata": {},
     "output_type": "execute_result"
    }
   ],
   "source": [
    "res = stat()\n",
    "res.tukey_hsd(df=df_melt, res_var='value', xfac_var='pH', anova_model='value ~ C(pH)', phalpha=0.01)\n",
    "df_tukey = res.tukey_summary\n",
    "df_tukey.to_excel('../Reading/TukeyHSD_result_relative_error.xlsx')\n",
    "df_tukey"
   ]
  },
  {
   "cell_type": "code",
   "execution_count": 10,
   "metadata": {},
   "outputs": [],
   "source": [
    "df_u = df_melt.pivot(columns='pH', values='value')\n",
    "df_2_17 = df_u['pH 2.17'].dropna().reset_index(drop=True)\n",
    "df_5_75 = df_u['pH 5.75'].dropna().reset_index(drop=True)\n",
    "df_7_73 = df_u['pH 7.73'].dropna().reset_index(drop=True)\n",
    "df_10_36 = df_u['pH 10.36'].dropna().reset_index(drop=True)\n",
    "df_13_15 = df_u['pH 13.15'].dropna().reset_index(drop=True)\n",
    "\n",
    "\n",
    "val = {\n",
    "    \"pH 2.17\" : df_2_17,\n",
    "    \"pH 5.75\" : df_5_75,\n",
    "    \"pH 7.73\" : df_7_73,\n",
    "    \"pH 10.36\" : df_10_36,\n",
    "    \"pH 13.15\" : df_13_15\n",
    "}"
   ]
  },
  {
   "cell_type": "code",
   "execution_count": 11,
   "metadata": {},
   "outputs": [
    {
     "data": {
      "text/plain": [
       "0.0"
      ]
     },
     "execution_count": 11,
     "metadata": {},
     "output_type": "execute_result"
    }
   ],
   "source": [
    "f_stat, p_value = scipy.stats.f_oneway(df_2_17, df_5_75, df_7_73, df_10_36, df_13_15)\n",
    "p_value"
   ]
  },
  {
   "cell_type": "code",
   "execution_count": 12,
   "metadata": {},
   "outputs": [
    {
     "data": {
      "image/png": "[encoded data removed]",
      "text/plain": [
       "<Figure size 1000x600 with 1 Axes>"
      ]
     },
     "metadata": {},
     "output_type": "display_data"
    }
   ],
   "source": [
    "fig, ax = plt.subplots()\n",
    "fig.set_figwidth(10)\n",
    "fig.set_figheight(6)\n",
    "\n",
    "ph_name = []\n",
    "mean = [None]\n",
    "for i in val.keys():\n",
    "    mean.append((val[i].mean()))\n",
    "\n",
    "plt.boxplot(\n",
    "    val.values(),  \n",
    "    patch_artist=True, \n",
    "    boxprops=dict(facecolor=\"w\", color=\"k\"),\n",
    "    medianprops=dict(color='k')\n",
    ")\n",
    "ax.axhline(df_melt['value'].mean(), color='r', label='Population Mean', linestyle='--')\n",
    "ax.plot(['', 'pH 2.17', 'pH 5.75', 'pH 7.73', 'pH 10.36', 'pH 13.15'], mean, marker='o',markerfacecolor='none', ms=5, markeredgecolor='k', color='k')\n",
    "ax.set_xticklabels(['pH 2.17', 'pH 5.75', 'pH 7.73', 'pH 10.36', 'pH 13.15'])\n",
    "ax.set_xlabel('Treatment')\n",
    "ax.set_ylabel('Relative Error (%)')\n",
    "\n",
    "plt.legend()\n",
    "plt.savefig('../Reading/img/Boxplot mean data.png')\n",
    "\n",
    "plt.show()"
   ]
  },
  {
   "cell_type": "code",
   "execution_count": 13,
   "metadata": {},
   "outputs": [
    {
     "data": {
      "text/plain": [
       "3.3231220461040656"
      ]
     },
     "execution_count": 13,
     "metadata": {},
     "output_type": "execute_result"
    }
   ],
   "source": [
    "scipy.stats.f.ppf(q=1-.01, dfn=4, dfd=4746)"
   ]
  },
  {
   "cell_type": "code",
   "execution_count": 14,
   "metadata": {},
   "outputs": [
    {
     "data": {
      "text/plain": [
       "{'pH 2.17': 0     -0.414747\n",
       " 1     -0.414747\n",
       " 2     -0.414747\n",
       " 3     -0.368664\n",
       " 4     -0.368664\n",
       "          ...   \n",
       " 762    0.599078\n",
       " 763    0.599078\n",
       " 764    0.599078\n",
       " 765    0.599078\n",
       " 766    0.599078\n",
       " Name: pH 2.17, Length: 767, dtype: float64,\n",
       " 'pH 5.75': 0     -0.393043\n",
       " 1     -0.380870\n",
       " 2     -0.351304\n",
       " 3     -0.349565\n",
       " 4     -0.335652\n",
       "          ...   \n",
       " 984    0.596522\n",
       " 985    0.598261\n",
       " 986    0.600000\n",
       " 987    0.612174\n",
       " 988    0.617391\n",
       " Name: pH 5.75, Length: 989, dtype: float64,\n",
       " 'pH 7.73': 0     -0.407503\n",
       " 1     -0.404916\n",
       " 2     -0.404916\n",
       " 3     -0.403622\n",
       " 4     -0.395860\n",
       "          ...   \n",
       " 990    0.320828\n",
       " 991    0.355757\n",
       " 992    0.379043\n",
       " 993    0.421734\n",
       " 994    0.426908\n",
       " Name: pH 7.73, Length: 995, dtype: float64,\n",
       " 'pH 10.36': 0     -0.140927\n",
       " 1     -0.134170\n",
       " 2     -0.133205\n",
       " 3     -0.131274\n",
       " 4     -0.129344\n",
       "          ...   \n",
       " 995    0.333977\n",
       " 996    0.334942\n",
       " 997    0.361969\n",
       " 998    0.363900\n",
       " 999    0.371622\n",
       " Name: pH 10.36, Length: 1000, dtype: float64,\n",
       " 'pH 13.15': 0     -0.326996\n",
       " 1     -0.318631\n",
       " 2     -0.286692\n",
       " 3     -0.269962\n",
       " 4     -0.267681\n",
       "          ...   \n",
       " 995    0.320152\n",
       " 996    0.329278\n",
       " 997    0.333840\n",
       " 998    0.362738\n",
       " 999    0.381749\n",
       " Name: pH 13.15, Length: 1000, dtype: float64}"
      ]
     },
     "execution_count": 14,
     "metadata": {},
     "output_type": "execute_result"
    }
   ],
   "source": [
    "val"
   ]
  },
  {
   "cell_type": "code",
   "execution_count": 28,
   "metadata": {},
   "outputs": [
    {
     "data": {
      "text/html": [
       "<table class=\"simpletable\">\n",
       "<caption>Multiple Comparison of Means - Tukey HSD, FWER=0.00</caption>\n",
       "<tr>\n",
       "   <th>group1</th>   <th>group2</th>  <th>meandiff</th> <th>p-adj</th>  <th>lower</th>   <th>upper</th>  <th>reject</th>\n",
       "</tr>\n",
       "<tr>\n",
       "  <td>pH 10.36</td> <td>pH 13.15</td>  <td>-0.1067</td> <td>0.001</td> <td>-0.1347</td> <td>-0.0786</td>  <td>True</td> \n",
       "</tr>\n",
       "<tr>\n",
       "  <td>pH 10.36</td>  <td>pH 2.17</td>  <td>0.1037</td>  <td>0.001</td> <td>0.0736</td>  <td>0.1338</td>   <td>True</td> \n",
       "</tr>\n",
       "<tr>\n",
       "  <td>pH 10.36</td>  <td>pH 5.75</td>  <td>0.0681</td>  <td>0.001</td> <td>0.0399</td>  <td>0.0962</td>   <td>True</td> \n",
       "</tr>\n",
       "<tr>\n",
       "  <td>pH 10.36</td>  <td>pH 7.73</td>  <td>-0.1657</td> <td>0.001</td> <td>-0.1938</td> <td>-0.1376</td>  <td>True</td> \n",
       "</tr>\n",
       "<tr>\n",
       "  <td>pH 13.15</td>  <td>pH 2.17</td>  <td>0.2104</td>  <td>0.001</td> <td>0.1803</td>  <td>0.2405</td>   <td>True</td> \n",
       "</tr>\n",
       "<tr>\n",
       "  <td>pH 13.15</td>  <td>pH 5.75</td>  <td>0.1747</td>  <td>0.001</td> <td>0.1466</td>  <td>0.2029</td>   <td>True</td> \n",
       "</tr>\n",
       "<tr>\n",
       "  <td>pH 13.15</td>  <td>pH 7.73</td>  <td>-0.059</td>  <td>0.001</td> <td>-0.0871</td> <td>-0.0309</td>  <td>True</td> \n",
       "</tr>\n",
       "<tr>\n",
       "   <td>pH 2.17</td>  <td>pH 5.75</td>  <td>-0.0357</td> <td>0.001</td> <td>-0.0659</td> <td>-0.0055</td>  <td>True</td> \n",
       "</tr>\n",
       "<tr>\n",
       "   <td>pH 2.17</td>  <td>pH 7.73</td>  <td>-0.2694</td> <td>0.001</td> <td>-0.2996</td> <td>-0.2393</td>  <td>True</td> \n",
       "</tr>\n",
       "<tr>\n",
       "   <td>pH 5.75</td>  <td>pH 7.73</td>  <td>-0.2338</td> <td>0.001</td> <td>-0.2619</td> <td>-0.2056</td>  <td>True</td> \n",
       "</tr>\n",
       "</table>"
      ],
      "text/plain": [
       "<class 'statsmodels.iolib.table.SimpleTable'>"
      ]
     },
     "execution_count": 28,
     "metadata": {},
     "output_type": "execute_result"
    }
   ],
   "source": [
    "import statsmodels.stats.multicomp as mc\n",
    "\n",
    "comp = mc.MultiComparison(df_melt['value'], df_melt['pH'])\n",
    "post_hoc_res = comp.tukeyhsd(alpha=0.001)\n",
    "post_hoc_res.summary()"
   ]
  },
  {
   "attachments": {},
   "cell_type": "markdown",
   "metadata": {},
   "source": [
    "# Check Normality"
   ]
  },
  {
   "cell_type": "code",
   "execution_count": 30,
   "metadata": {},
   "outputs": [
    {
     "name": "stdout",
     "output_type": "stream",
     "text": [
      "0.9867873191833496 1.0830151359947482e-20\n"
     ]
    }
   ],
   "source": [
    "import scipy.stats as stats\n",
    "w, pvalue = stats.shapiro(new.resid)\n",
    "print(w, pvalue)"
   ]
  },
  {
   "attachments": {},
   "cell_type": "markdown",
   "metadata": {},
   "source": [
    "# Check Homogeinity"
   ]
  },
  {
   "cell_type": "code",
   "execution_count": 29,
   "metadata": {},
   "outputs": [
    {
     "name": "stdout",
     "output_type": "stream",
     "text": [
      "1238.9518642735688 5.724610479810109e-267\n"
     ]
    }
   ],
   "source": [
    "import scipy.stats as stats\n",
    "w, pvalue = stats.bartlett(df_2_17, df_5_75, df_7_73, df_10_36, df_13_15)\n",
    "print(w, pvalue)"
   ]
  },
  {
   "cell_type": "code",
   "execution_count": 31,
   "metadata": {},
   "outputs": [
    {
     "name": "stdout",
     "output_type": "stream",
     "text": [
      "4.1000000000000005\n"
     ]
    }
   ],
   "source": [
    "print((246/6000) * 100)"
   ]
  },
  {
   "cell_type": "code",
   "execution_count": null,
   "metadata": {},
   "outputs": [],
   "source": []
  }
 ],
 "metadata": {
  "kernelspec": {
   "display_name": "Yolo2TFLite",
   "language": "python",
   "name": "python3"
  },
  "language_info": {
   "codemirror_mode": {
    "name": "ipython",
    "version": 3
   },
   "file_extension": ".py",
   "mimetype": "text/x-python",
   "name": "python",
   "nbconvert_exporter": "python",
   "pygments_lexer": "ipython3",
   "version": "3.7.3"
  },
  "orig_nbformat": 4,
  "vscode": {
   "interpreter": {
    "hash": "d6462f88199808a8302aa5aff60b48faf49ed9099ed9d7a9038245edaa5fe56e"
   }
  }
 },
 "nbformat": 4,
 "nbformat_minor": 2
}
